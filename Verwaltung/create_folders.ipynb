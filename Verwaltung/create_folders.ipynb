{
 "cells": [
  {
   "cell_type": "code",
   "execution_count": 53,
   "id": "55b1ff39-9a1c-4552-bcd4-9e12cb349222",
   "metadata": {},
   "outputs": [],
   "source": [
    "import pandas as pd, os\n",
    "\n",
    "repo = r\"C:\\Users\\va60moli\\Documents\\GitHub\\ManagingProjectsSuccessfully.github.io\\kb\"\n",
    "\n",
    "template_file = r\"C:\\Users\\va60moli\\Documents\\GitHub\\ManagingProjectsSuccessfully.github.io\\Verwaltung\\Projekt.md\""
   ]
  },
  {
   "cell_type": "code",
   "execution_count": 54,
   "id": "071b30b9-e66c-4a1a-a136-3652a706c598",
   "metadata": {},
   "outputs": [
    {
     "name": "stdout",
     "output_type": "stream",
     "text": [
      "                                     Themen        GitHub  GitHub.1\n",
      "0                                   Projekt  jonaskarg187       NaN\n",
      "1                         Projektmanagement        FCN478       NaN\n",
      "2                Projektportfoliomanagement      jy59zadi       NaN\n",
      "3                        Programmmanagement        si18k1       NaN\n",
      "4              Who_is_Who_Projectmanagement      ne88peni       NaN\n",
      "..                                      ...           ...       ...\n",
      "335  Six_Sigma_Statistische_Versuchsplanung     elainevmd       NaN\n",
      "336       Failure_Mode_and_Effects_Analysis      Creed229       NaN\n",
      "337             Six_Sigma_Kernprozess_DMAIC      AlbaraMo       NaN\n",
      "338                           Kanban_Boards        leusl8       NaN\n",
      "339                       Kanban_Swim_Lanes      Creed229       NaN\n",
      "\n",
      "[340 rows x 3 columns]\n"
     ]
    }
   ],
   "source": [
    "df = pd.read_excel (r'C:\\Users\\va60moli\\Documents\\GitHub\\ManagingProjectsSuccessfully.github.io\\Verwaltung\\2021-10-26_Themenzuordnung.xlsx')\n",
    "print (df)"
   ]
  },
  {
   "cell_type": "code",
   "execution_count": 55,
   "id": "55ee6569-0d3b-48d4-a7a1-db490e11a95b",
   "metadata": {},
   "outputs": [],
   "source": [
    "topics = list(df[\"Themen\"])\n",
    "users = list(df[\"GitHub\"])\n",
    "\n",
    "with open(template_file) as f:\n",
    "    template_md = f.readlines()"
   ]
  },
  {
   "cell_type": "code",
   "execution_count": 56,
   "id": "f2b6964f-5441-487b-ba1e-c1aa69b8b18c",
   "metadata": {},
   "outputs": [],
   "source": [
    "for t, u in zip(topics, users):\n",
    "    try:\n",
    "        os.mkdir(os.path.join(repo, t))\n",
    "        copy_md = template_md.copy()\n",
    "        copy_md[1] = f\"title: {t} \\n\"\n",
    "        copy_md[3] = f\"author: {u} \\n\"\n",
    "\n",
    "\n",
    "        p = os.path.join(repo, t,  t +\".md\")\n",
    "        with open(p, 'w') as f:\n",
    "            f.writelines(copy_md)\n",
    "            \n",
    "    except:\n",
    "        print(\"Error bei: \" + t)"
   ]
  },
  {
   "cell_type": "code",
   "execution_count": null,
   "id": "bf4691b4-f85d-4271-b584-5b7014d34f00",
   "metadata": {},
   "outputs": [],
   "source": []
  },
  {
   "cell_type": "code",
   "execution_count": 57,
   "id": "5be2b764-844a-4f44-9e60-61de7d35b205",
   "metadata": {},
   "outputs": [
    {
     "data": {
      "text/plain": [
       "'title: Kanban_Swim_Lanes'"
      ]
     },
     "execution_count": 57,
     "metadata": {},
     "output_type": "execute_result"
    }
   ],
   "source": [
    "lines[1] = f\"title: {t}\"\n",
    "lines[1]"
   ]
  },
  {
   "cell_type": "code",
   "execution_count": null,
   "id": "c1b151fe-8732-44d2-b403-14196124f5d9",
   "metadata": {},
   "outputs": [],
   "source": []
  },
  {
   "cell_type": "code",
   "execution_count": null,
   "id": "f116550e-a56c-47d5-a6e0-d4773ac82b42",
   "metadata": {},
   "outputs": [],
   "source": []
  }
 ],
 "metadata": {
  "kernelspec": {
   "display_name": "DL",
   "language": "python",
   "name": "dl"
  },
  "language_info": {
   "codemirror_mode": {
    "name": "ipython",
    "version": 3
   },
   "file_extension": ".py",
   "mimetype": "text/x-python",
   "name": "python",
   "nbconvert_exporter": "python",
   "pygments_lexer": "ipython3",
   "version": "3.9.7"
  }
 },
 "nbformat": 4,
 "nbformat_minor": 5
}
